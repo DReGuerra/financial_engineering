{
 "cells": [
  {
   "cell_type": "markdown",
   "metadata": {},
   "source": [
    "# The Greeks\n",
    "André Guerra \\\n",
    "October, 2022 \\\n",
    "andre.guerra@mail.mcgill.ca\n",
    "\n",
    "This notebook discusses some of the quantitative analytics of the Black-Scholes model in pricing options. These analytics are called \"the Greeks\" referring to the Greek letter names given to each of them."
   ]
  },
  {
   "cell_type": "code",
   "execution_count": null,
   "metadata": {},
   "outputs": [],
   "source": []
  },
  {
   "cell_type": "markdown",
   "metadata": {},
   "source": [
    "## 0. The Black-Scholes model for options pricing\n",
    "\n",
    "<u>CALL:</u> \n",
    "\n",
    "$C = S_oN(d_1)e^{-qT} - N(d_2)Ke^{-rT}$\n",
    "\n",
    "<u>PUT:</u>\n",
    "\n",
    "$P = N(-d_2)Ke^{-rT} - N(-d_1)S_oe^{-qT}$\n",
    "\n",
    "<u>Auxilliary variables:</u>\n",
    "\n",
    "$d_1 = \\frac{ln\\left ( \\frac{S}{K} \\right )+(r-q+\\frac{\\sigma^2}{2})T}{\\sigma \\sqrt{T}}$\n",
    "\n",
    "$d_2 = d_1 - \\sigma \\sqrt{T}$\n",
    "\n",
    "Note that, for stocks that offer no dividends, $q=0$, while stocks that offer dividends, $q>0$."
   ]
  },
  {
   "cell_type": "markdown",
   "metadata": {},
   "source": [
    "## 1. Delta, $\\Delta$\n",
    "The delta analytic is the <u>first-order partial derivative</u> of the Black-Scholes option price <u>with respect to</u> the underlying asset's (e.g., stock) <u>price</u> ($S$).\n",
    "\n",
    "<u>CALL Option:</u>\n",
    "\n",
    "$\\frac{\\partial C}{\\partial S} = N(d_1)$\n",
    "\n",
    "<u>PUT Option:</u>\n",
    "\n",
    "$\\frac{\\partial P}{\\partial S} = -N(-d_1)$"
   ]
  },
  {
   "cell_type": "code",
   "execution_count": null,
   "metadata": {},
   "outputs": [],
   "source": []
  },
  {
   "cell_type": "markdown",
   "metadata": {},
   "source": [
    "## 2. Gamma, $\\gamma$\n",
    "The gamma analytic is the <u>second-order partial derivative</u> of the Black-Scholes option price <u>with respect to</u> the underlying asset's (e.g., stock) <u>price</u> ($S$).\n",
    "\n",
    "<u>CALL Option:</u>\n",
    "\n",
    "$\\frac{\\partial^2 C}{\\partial S^2} = \\frac{N'(d_1)}{S\\sigma \\sqrt{T}}$\n",
    "\n",
    "<u>PUT Option:</u>\n",
    "\n",
    "$\\frac{\\partial^2 P}{\\partial S^2} = \\frac{N'(d_1)}{S\\sigma \\sqrt{T}}$\n",
    "\n",
    "Note that $\\frac{\\partial^2 C}{\\partial S^2} = \\frac{\\partial^2 P}{\\partial S^2}$"
   ]
  },
  {
   "cell_type": "code",
   "execution_count": null,
   "metadata": {},
   "outputs": [],
   "source": []
  },
  {
   "cell_type": "markdown",
   "metadata": {},
   "source": [
    "## 3. Vega, $\\nu$\n",
    "The vega analytic is the <u>first-order partial derivative</u> of the Black-Scholes option price <u>with respect to</u> the underlying asset's (e.g., stock) <u>volatility</u> ($\\sigma$).\n",
    "\n",
    "<u>CALL Option:</u>\n",
    "\n",
    "$\\frac{\\partial C}{\\partial \\sigma} = N'(d_1)S \\sqrt{T}$\n",
    "\n",
    "<u>PUT Option:</u>\n",
    "\n",
    "$\\frac{\\partial P}{\\partial \\sigma} = N'(d_1)S \\sqrt{T}$\n",
    "\n",
    "Note that $\\frac{\\partial C}{\\partial \\sigma} = \\frac{\\partial P}{\\partial \\sigma}$"
   ]
  },
  {
   "cell_type": "code",
   "execution_count": null,
   "metadata": {},
   "outputs": [],
   "source": []
  },
  {
   "cell_type": "markdown",
   "metadata": {},
   "source": [
    "## 4. Theta, $\\Theta$\n",
    "The delta analytic is the <u>first-order partial derivative</u> of the Black-Scholes option price <u>with respect to</u> the contract's <u>expiration time</u> length ($T$).\n",
    "\n",
    "<u>CALL Option:</u>\n",
    "\n",
    "$\\frac{\\partial C}{\\partial T} = -\\frac{SN'(d_1)\\sigma}{2\\sqrt{T}} - rKe^{-rT}N(d_2)$\n",
    "\n",
    "<u>PUT Option:</u>\n",
    "\n",
    "$\\frac{\\partial P}{\\partial T} = -\\frac{SN'(d_1)\\sigma}{2\\sqrt{T}} + rKe^{-rT}N(-d_2)$"
   ]
  },
  {
   "cell_type": "code",
   "execution_count": null,
   "metadata": {},
   "outputs": [],
   "source": []
  },
  {
   "cell_type": "markdown",
   "metadata": {},
   "source": [
    "## 5. Rho, $\\rho$\n",
    "The delta analytic is the <u>first-order partial derivative</u> of the Black-Scholes option price <u>with respect to</u> the <u>risk free interest rate</u> ($r$).\n",
    "\n",
    "<u>CALL Option:</u>\n",
    "\n",
    "$\\frac{\\partial C}{\\partial r} = KTe^{-rT}N(d_2)$\n",
    "\n",
    "<u>PUT Option:</u>\n",
    "\n",
    "$\\frac{\\partial P}{\\partial r} = -KTe^{-rT}N(-d_2)$"
   ]
  },
  {
   "cell_type": "code",
   "execution_count": null,
   "metadata": {},
   "outputs": [],
   "source": []
  }
 ],
 "metadata": {
  "kernelspec": {
   "display_name": "Python 3.8.13 ('base': conda)",
   "language": "python",
   "name": "python3"
  },
  "language_info": {
   "name": "python",
   "version": "3.8.13"
  },
  "orig_nbformat": 4,
  "vscode": {
   "interpreter": {
    "hash": "58612700042e0dda55d064f19a45ac17f57b6f86f4fa35ebb20081f9b728415c"
   }
  }
 },
 "nbformat": 4,
 "nbformat_minor": 2
}
